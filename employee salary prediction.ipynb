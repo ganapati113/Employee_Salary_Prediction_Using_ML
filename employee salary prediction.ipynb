{
 "cells": [
  {
   "cell_type": "code",
   "execution_count": 77,
   "id": "7adfd133-31a6-4ebc-bade-eb44f5de869d",
   "metadata": {},
   "outputs": [],
   "source": [
    "import pandas as pd"
   ]
  },
  {
   "cell_type": "code",
   "execution_count": 78,
   "id": "9e0850d8-ee98-4931-9784-b6a2ed85d692",
   "metadata": {},
   "outputs": [],
   "source": [
    "data=pd.read_csv(r\"E:\\Employee-Salary-Prediction Using ML\\salary_prediction_data.csv\")"
   ]
  },
  {
   "cell_type": "code",
   "execution_count": 79,
   "id": "077f993f-3d16-4cc9-83d6-d81e7514f9c0",
   "metadata": {},
   "outputs": [
    {
     "data": {
      "text/html": [
       "<div>\n",
       "<style scoped>\n",
       "    .dataframe tbody tr th:only-of-type {\n",
       "        vertical-align: middle;\n",
       "    }\n",
       "\n",
       "    .dataframe tbody tr th {\n",
       "        vertical-align: top;\n",
       "    }\n",
       "\n",
       "    .dataframe thead th {\n",
       "        text-align: right;\n",
       "    }\n",
       "</style>\n",
       "<table border=\"1\" class=\"dataframe\">\n",
       "  <thead>\n",
       "    <tr style=\"text-align: right;\">\n",
       "      <th></th>\n",
       "      <th>Education</th>\n",
       "      <th>Experience</th>\n",
       "      <th>Job_Title</th>\n",
       "      <th>Age</th>\n",
       "      <th>Gender</th>\n",
       "      <th>Salary</th>\n",
       "    </tr>\n",
       "  </thead>\n",
       "  <tbody>\n",
       "    <tr>\n",
       "      <th>0</th>\n",
       "      <td>Bachelor</td>\n",
       "      <td>3</td>\n",
       "      <td>Data Scientist</td>\n",
       "      <td>28</td>\n",
       "      <td>Male</td>\n",
       "      <td>60000</td>\n",
       "    </tr>\n",
       "    <tr>\n",
       "      <th>1</th>\n",
       "      <td>Master</td>\n",
       "      <td>5</td>\n",
       "      <td>Software Engineer</td>\n",
       "      <td>30</td>\n",
       "      <td>Female</td>\n",
       "      <td>80000</td>\n",
       "    </tr>\n",
       "    <tr>\n",
       "      <th>2</th>\n",
       "      <td>PhD</td>\n",
       "      <td>7</td>\n",
       "      <td>Manager</td>\n",
       "      <td>40</td>\n",
       "      <td>Male</td>\n",
       "      <td>120000</td>\n",
       "    </tr>\n",
       "    <tr>\n",
       "      <th>3</th>\n",
       "      <td>Bachelor</td>\n",
       "      <td>2</td>\n",
       "      <td>Analyst</td>\n",
       "      <td>25</td>\n",
       "      <td>Female</td>\n",
       "      <td>50000</td>\n",
       "    </tr>\n",
       "    <tr>\n",
       "      <th>4</th>\n",
       "      <td>Master</td>\n",
       "      <td>6</td>\n",
       "      <td>Data Scientist</td>\n",
       "      <td>35</td>\n",
       "      <td>Male</td>\n",
       "      <td>85000</td>\n",
       "    </tr>\n",
       "    <tr>\n",
       "      <th>5</th>\n",
       "      <td>PhD</td>\n",
       "      <td>10</td>\n",
       "      <td>Manager</td>\n",
       "      <td>45</td>\n",
       "      <td>Female</td>\n",
       "      <td>130000</td>\n",
       "    </tr>\n",
       "    <tr>\n",
       "      <th>6</th>\n",
       "      <td>Bachelor</td>\n",
       "      <td>1</td>\n",
       "      <td>Software Engineer</td>\n",
       "      <td>22</td>\n",
       "      <td>Male</td>\n",
       "      <td>55000</td>\n",
       "    </tr>\n",
       "    <tr>\n",
       "      <th>7</th>\n",
       "      <td>Master</td>\n",
       "      <td>4</td>\n",
       "      <td>Analyst</td>\n",
       "      <td>33</td>\n",
       "      <td>Other</td>\n",
       "      <td>70000</td>\n",
       "    </tr>\n",
       "    <tr>\n",
       "      <th>8</th>\n",
       "      <td>Bachelor</td>\n",
       "      <td>8</td>\n",
       "      <td>Manager</td>\n",
       "      <td>38</td>\n",
       "      <td>Female</td>\n",
       "      <td>110000</td>\n",
       "    </tr>\n",
       "    <tr>\n",
       "      <th>9</th>\n",
       "      <td>PhD</td>\n",
       "      <td>9</td>\n",
       "      <td>Data Scientist</td>\n",
       "      <td>42</td>\n",
       "      <td>Male</td>\n",
       "      <td>125000</td>\n",
       "    </tr>\n",
       "  </tbody>\n",
       "</table>\n",
       "</div>"
      ],
      "text/plain": [
       "  Education  Experience          Job_Title  Age  Gender  Salary\n",
       "0  Bachelor           3     Data Scientist   28    Male   60000\n",
       "1    Master           5  Software Engineer   30  Female   80000\n",
       "2       PhD           7            Manager   40    Male  120000\n",
       "3  Bachelor           2            Analyst   25  Female   50000\n",
       "4    Master           6     Data Scientist   35    Male   85000\n",
       "5       PhD          10            Manager   45  Female  130000\n",
       "6  Bachelor           1  Software Engineer   22    Male   55000\n",
       "7    Master           4            Analyst   33   Other   70000\n",
       "8  Bachelor           8            Manager   38  Female  110000\n",
       "9       PhD           9     Data Scientist   42    Male  125000"
      ]
     },
     "execution_count": 79,
     "metadata": {},
     "output_type": "execute_result"
    }
   ],
   "source": [
    "data.head(10)"
   ]
  },
  {
   "cell_type": "code",
   "execution_count": 80,
   "id": "66c1988b-d8fb-4972-884f-a1d9dc2aff45",
   "metadata": {},
   "outputs": [
    {
     "data": {
      "text/html": [
       "<div>\n",
       "<style scoped>\n",
       "    .dataframe tbody tr th:only-of-type {\n",
       "        vertical-align: middle;\n",
       "    }\n",
       "\n",
       "    .dataframe tbody tr th {\n",
       "        vertical-align: top;\n",
       "    }\n",
       "\n",
       "    .dataframe thead th {\n",
       "        text-align: right;\n",
       "    }\n",
       "</style>\n",
       "<table border=\"1\" class=\"dataframe\">\n",
       "  <thead>\n",
       "    <tr style=\"text-align: right;\">\n",
       "      <th></th>\n",
       "      <th>Education</th>\n",
       "      <th>Experience</th>\n",
       "      <th>Job_Title</th>\n",
       "      <th>Age</th>\n",
       "      <th>Gender</th>\n",
       "      <th>Salary</th>\n",
       "    </tr>\n",
       "  </thead>\n",
       "  <tbody>\n",
       "    <tr>\n",
       "      <th>7</th>\n",
       "      <td>Master</td>\n",
       "      <td>4</td>\n",
       "      <td>Analyst</td>\n",
       "      <td>33</td>\n",
       "      <td>Other</td>\n",
       "      <td>70000</td>\n",
       "    </tr>\n",
       "    <tr>\n",
       "      <th>8</th>\n",
       "      <td>Bachelor</td>\n",
       "      <td>8</td>\n",
       "      <td>Manager</td>\n",
       "      <td>38</td>\n",
       "      <td>Female</td>\n",
       "      <td>110000</td>\n",
       "    </tr>\n",
       "    <tr>\n",
       "      <th>9</th>\n",
       "      <td>PhD</td>\n",
       "      <td>9</td>\n",
       "      <td>Data Scientist</td>\n",
       "      <td>42</td>\n",
       "      <td>Male</td>\n",
       "      <td>125000</td>\n",
       "    </tr>\n",
       "  </tbody>\n",
       "</table>\n",
       "</div>"
      ],
      "text/plain": [
       "  Education  Experience       Job_Title  Age  Gender  Salary\n",
       "7    Master           4         Analyst   33   Other   70000\n",
       "8  Bachelor           8         Manager   38  Female  110000\n",
       "9       PhD           9  Data Scientist   42    Male  125000"
      ]
     },
     "execution_count": 80,
     "metadata": {},
     "output_type": "execute_result"
    }
   ],
   "source": [
    "data.tail(3)"
   ]
  },
  {
   "cell_type": "code",
   "execution_count": 81,
   "id": "329e3b00-3b13-4a13-ba9f-04d84be72ed5",
   "metadata": {},
   "outputs": [
    {
     "data": {
      "text/plain": [
       "(10, 6)"
      ]
     },
     "execution_count": 81,
     "metadata": {},
     "output_type": "execute_result"
    }
   ],
   "source": [
    "data.shape"
   ]
  },
  {
   "cell_type": "code",
   "execution_count": 82,
   "id": "ae99428f-5fc8-4963-9d9d-7b9df684bbd1",
   "metadata": {},
   "outputs": [
    {
     "data": {
      "text/plain": [
       "Education     0\n",
       "Experience    0\n",
       "Job_Title     0\n",
       "Age           0\n",
       "Gender        0\n",
       "Salary        0\n",
       "dtype: int64"
      ]
     },
     "execution_count": 82,
     "metadata": {},
     "output_type": "execute_result"
    }
   ],
   "source": [
    "#null values\n",
    "data.isna().sum() #mean mdeian mode arbitrary"
   ]
  },
  {
   "cell_type": "code",
   "execution_count": 83,
   "id": "7e7213c4-6bf2-49ec-9db1-4aa91a4e78d1",
   "metadata": {},
   "outputs": [
    {
     "name": "stdout",
     "output_type": "stream",
     "text": [
      "Experience\n",
      "3     1\n",
      "5     1\n",
      "7     1\n",
      "2     1\n",
      "6     1\n",
      "10    1\n",
      "1     1\n",
      "4     1\n",
      "8     1\n",
      "9     1\n",
      "Name: count, dtype: int64\n"
     ]
    }
   ],
   "source": [
    "print(data.Experience.value_counts())"
   ]
  },
  {
   "cell_type": "code",
   "execution_count": 84,
   "id": "d571ef53-21b0-4445-9b4f-4ee19cd425f2",
   "metadata": {},
   "outputs": [
    {
     "name": "stdout",
     "output_type": "stream",
     "text": [
      "Experience\n",
      "3     1\n",
      "5     1\n",
      "7     1\n",
      "2     1\n",
      "6     1\n",
      "10    1\n",
      "1     1\n",
      "4     1\n",
      "8     1\n",
      "9     1\n",
      "Name: count, dtype: int64\n"
     ]
    },
    {
     "name": "stderr",
     "output_type": "stream",
     "text": [
      "C:\\Users\\nagal\\AppData\\Local\\Temp\\ipykernel_2168\\445921712.py:1: FutureWarning: A value is trying to be set on a copy of a DataFrame or Series through chained assignment using an inplace method.\n",
      "The behavior will change in pandas 3.0. This inplace method will never work because the intermediate object on which we are setting values always behaves as a copy.\n",
      "\n",
      "For example, when doing 'df[col].method(value, inplace=True)', try using 'df.method({col: value}, inplace=True)' or df[col] = df[col].method(value) instead, to perform the operation inplace on the original object.\n",
      "\n",
      "\n",
      "  data.Experience.replace({'?':'Others'},inplace=True)\n"
     ]
    }
   ],
   "source": [
    "data.Experience.replace({'?':'Others'},inplace=True)\n",
    "print(data['Experience'].value_counts())"
   ]
  },
  {
   "cell_type": "code",
   "execution_count": 13,
   "id": "898305d1-4af6-4ee5-b0bd-652da2788c91",
   "metadata": {},
   "outputs": [
    {
     "name": "stdout",
     "output_type": "stream",
     "text": [
      "Job_Title\n",
      "Director    275\n",
      "Analyst     255\n",
      "Manager     241\n",
      "Engineer    229\n",
      "Name: count, dtype: int64\n"
     ]
    }
   ],
   "source": [
    "print(data['Job_Title'].value_counts())"
   ]
  },
  {
   "cell_type": "code",
   "execution_count": 85,
   "id": "9c44e548-043e-4044-9002-ddd555b68ae0",
   "metadata": {},
   "outputs": [
    {
     "name": "stdout",
     "output_type": "stream",
     "text": [
      "Job_Title\n",
      "Data Scientist       3\n",
      "Manager              3\n",
      "Software Engineer    2\n",
      "Analyst              2\n",
      "Name: count, dtype: int64\n"
     ]
    },
    {
     "name": "stderr",
     "output_type": "stream",
     "text": [
      "C:\\Users\\nagal\\AppData\\Local\\Temp\\ipykernel_2168\\2795766361.py:1: FutureWarning: A value is trying to be set on a copy of a DataFrame or Series through chained assignment using an inplace method.\n",
      "The behavior will change in pandas 3.0. This inplace method will never work because the intermediate object on which we are setting values always behaves as a copy.\n",
      "\n",
      "For example, when doing 'df[col].method(value, inplace=True)', try using 'df.method({col: value}, inplace=True)' or df[col] = df[col].method(value) instead, to perform the operation inplace on the original object.\n",
      "\n",
      "\n",
      "  data.Job_Title.replace({'?':'Others'},inplace=True)\n"
     ]
    }
   ],
   "source": [
    "data.Job_Title.replace({'?':'Others'},inplace=True)\n",
    "print(data['Job_Title'].value_counts())"
   ]
  },
  {
   "cell_type": "code",
   "execution_count": 86,
   "id": "67f1a1d8-8518-4819-9f75-333a96029435",
   "metadata": {},
   "outputs": [
    {
     "name": "stdout",
     "output_type": "stream",
     "text": [
      "Salary\n",
      "60000     1\n",
      "80000     1\n",
      "120000    1\n",
      "50000     1\n",
      "85000     1\n",
      "130000    1\n",
      "55000     1\n",
      "70000     1\n",
      "110000    1\n",
      "125000    1\n",
      "Name: count, dtype: int64\n"
     ]
    }
   ],
   "source": [
    "data=data[data['Salary']!='Without-pay']\n",
    "data=data[data['Salary']!='Never-worked']\n",
    "print(data['Salary'].value_counts())"
   ]
  },
  {
   "cell_type": "code",
   "execution_count": 87,
   "id": "d29e127d-087e-4b08-8c5e-58b5a56ace93",
   "metadata": {},
   "outputs": [
    {
     "name": "stdout",
     "output_type": "stream",
     "text": [
      "Age\n",
      "28    1\n",
      "30    1\n",
      "40    1\n",
      "25    1\n",
      "35    1\n",
      "45    1\n",
      "22    1\n",
      "33    1\n",
      "38    1\n",
      "42    1\n",
      "Name: count, dtype: int64\n"
     ]
    }
   ],
   "source": [
    "print(data.Age.value_counts())"
   ]
  },
  {
   "cell_type": "code",
   "execution_count": 88,
   "id": "26c8210a-35ec-4b22-bec0-3bf79623d8c1",
   "metadata": {},
   "outputs": [
    {
     "name": "stdout",
     "output_type": "stream",
     "text": [
      "Gender\n",
      "Male      5\n",
      "Female    4\n",
      "Other     1\n",
      "Name: count, dtype: int64\n"
     ]
    }
   ],
   "source": [
    "print(data.Gender.value_counts())"
   ]
  },
  {
   "cell_type": "code",
   "execution_count": 89,
   "id": "4258879c-e54d-46c7-9626-1fc42b106fc4",
   "metadata": {},
   "outputs": [
    {
     "data": {
      "text/plain": [
       "(10, 6)"
      ]
     },
     "execution_count": 89,
     "metadata": {},
     "output_type": "execute_result"
    }
   ],
   "source": [
    "data.shape"
   ]
  },
  {
   "cell_type": "code",
   "execution_count": 90,
   "id": "13f0f346-9c75-4ab3-81ef-d31c22d9bbb0",
   "metadata": {},
   "outputs": [
    {
     "data": {
      "image/png": "[encoded data removed]",
      "text/plain": [
       "<Figure size 640x480 with 1 Axes>"
      ]
     },
     "metadata": {},
     "output_type": "display_data"
    }
   ],
   "source": [
    "#outlier detection\n",
    "import matplotlib.pyplot as plt   #visualization\n",
    "plt.boxplot(data['Age'])\n",
    "plt.show()"
   ]
  },
  {
   "cell_type": "code",
   "execution_count": 91,
   "id": "e7421637-2e0d-4ea3-9c6f-00ee1daace5b",
   "metadata": {},
   "outputs": [],
   "source": [
    "data=data[(data['Age']<=75)&(data['Age']>=17)]"
   ]
  },
  {
   "cell_type": "code",
   "execution_count": 92,
   "id": "5fec362e-dba4-439d-be72-c62e5b8ad85a",
   "metadata": {},
   "outputs": [
    {
     "data": {
      "image/png": "[encoded data removed]",
      "text/plain": [
       "<Figure size 640x480 with 1 Axes>"
      ]
     },
     "metadata": {},
     "output_type": "display_data"
    }
   ],
   "source": [
    "plt.boxplot(data['Age'])\n",
    "plt.show()"
   ]
  },
  {
   "cell_type": "code",
   "execution_count": 93,
   "id": "c807737c-52da-433a-98a6-9903dbbbd7b1",
   "metadata": {},
   "outputs": [
    {
     "data": {
      "text/plain": [
       "(10, 6)"
      ]
     },
     "execution_count": 93,
     "metadata": {},
     "output_type": "execute_result"
    }
   ],
   "source": [
    "data.shape"
   ]
  },
  {
   "cell_type": "code",
   "execution_count": 94,
   "id": "6a26cdbe-7446-4f44-8b0e-c1964a2328fb",
   "metadata": {},
   "outputs": [
    {
     "data": {
      "image/png": "[encoded data removed]",
      "text/plain": [
       "<Figure size 640x480 with 1 Axes>"
      ]
     },
     "metadata": {},
     "output_type": "display_data"
    }
   ],
   "source": [
    "plt.boxplot(data['Salary'])\n",
    "plt.show()"
   ]
  },
  {
   "cell_type": "code",
   "execution_count": 95,
   "id": "e43fabf9-2d4c-4030-98fb-6c8e6d119ae5",
   "metadata": {},
   "outputs": [
    {
     "data": {
      "image/png": "[encoded data removed]",
      "text/plain": [
       "<Figure size 640x480 with 1 Axes>"
      ]
     },
     "metadata": {},
     "output_type": "display_data"
    }
   ],
   "source": [
    "plt.boxplot(data['Salary'])\n",
    "plt.show()"
   ]
  },
  {
   "cell_type": "code",
   "execution_count": 96,
   "id": "c39b9cc2-f785-4c2d-abd3-920f703eac79",
   "metadata": {},
   "outputs": [
    {
     "data": {
      "image/png": "[encoded data removed]",
      "text/plain": [
       "<Figure size 640x480 with 1 Axes>"
      ]
     },
     "metadata": {},
     "output_type": "display_data"
    }
   ],
   "source": [
    "plt.boxplot(data['Experience'])\n",
    "plt.show()"
   ]
  },
  {
   "cell_type": "code",
   "execution_count": 26,
   "id": "38d68bc8-4cdb-46fb-a031-749dbab9458c",
   "metadata": {},
   "outputs": [],
   "source": [
    "# Map education to numeric levels\n",
    "education_map = {\n",
    "    'High School': 5,\n",
    "    'Associate': 10,\n",
    "    'Bachelor': 12,\n",
    "    'Master': 14,\n",
    "    'PhD': 16\n",
    "}\n",
    "\n",
    "# Make a numeric column\n",
    "data['Education_Num'] = data['Education'].map(education_map)\n",
    "\n",
    "# Now the comparison works\n",
    "data = data[(data['Education_Num'] <= 16) & (data['Education_Num'] >= 5)]\n"
   ]
  },
  {
   "cell_type": "code",
   "execution_count": 101,
   "id": "76a85afc-8d86-4855-b12f-13a7bc50fa88",
   "metadata": {},
   "outputs": [
    {
     "data": {
      "image/png": "[encoded data removed]",
      "text/plain": [
       "<Figure size 640x480 with 1 Axes>"
      ]
     },
     "metadata": {},
     "output_type": "display_data"
    }
   ],
   "source": [
    "import matplotlib.pyplot as plt\n",
    "import pandas as pd\n",
    "\n",
    "# Example data\n",
    "data = pd.DataFrame({\n",
    "    'Education': [\"Bachelor\", \"Master\", \"PhD\", \"Bachelor\", \"Master\", \"PhD\", \"Bachelor\"]\n",
    "})\n",
    "\n",
    "# Encode categories\n",
    "data['Education_code'] = pd.Categorical(data['Education']).codes\n",
    "\n",
    "# Plot boxplot using encoded values\n",
    "plt.boxplot(data['Education_code'])\n",
    "plt.title(\"Boxplot of Encoded Education\")\n",
    "plt.ylabel(\"Education Code (0=Bachelor, 1=Master, 2=PhD)\")\n",
    "plt.show()\n",
    "\n"
   ]
  },
  {
   "cell_type": "code",
   "execution_count": 102,
   "id": "8eb6e336-5d53-4529-bc91-8fb5a08e3a98",
   "metadata": {},
   "outputs": [
    {
     "data": {
      "text/plain": [
       "(7, 2)"
      ]
     },
     "execution_count": 102,
     "metadata": {},
     "output_type": "execute_result"
    }
   ],
   "source": [
    "data.shape"
   ]
  },
  {
   "cell_type": "code",
   "execution_count": 103,
   "id": "348fea53-8937-4ffa-a4e3-a8a4e38a10ff",
   "metadata": {},
   "outputs": [],
   "source": [
    "data=data.drop(columns=['Education']) #redundant features removal"
   ]
  },
  {
   "cell_type": "code",
   "execution_count": 104,
   "id": "066bd02f-cba5-4f2c-85d5-5753737ada68",
   "metadata": {},
   "outputs": [
    {
     "data": {
      "text/html": [
       "<div>\n",
       "<style scoped>\n",
       "    .dataframe tbody tr th:only-of-type {\n",
       "        vertical-align: middle;\n",
       "    }\n",
       "\n",
       "    .dataframe tbody tr th {\n",
       "        vertical-align: top;\n",
       "    }\n",
       "\n",
       "    .dataframe thead th {\n",
       "        text-align: right;\n",
       "    }\n",
       "</style>\n",
       "<table border=\"1\" class=\"dataframe\">\n",
       "  <thead>\n",
       "    <tr style=\"text-align: right;\">\n",
       "      <th></th>\n",
       "      <th>Education_code</th>\n",
       "    </tr>\n",
       "  </thead>\n",
       "  <tbody>\n",
       "    <tr>\n",
       "      <th>0</th>\n",
       "      <td>0</td>\n",
       "    </tr>\n",
       "    <tr>\n",
       "      <th>1</th>\n",
       "      <td>1</td>\n",
       "    </tr>\n",
       "    <tr>\n",
       "      <th>2</th>\n",
       "      <td>2</td>\n",
       "    </tr>\n",
       "    <tr>\n",
       "      <th>3</th>\n",
       "      <td>0</td>\n",
       "    </tr>\n",
       "    <tr>\n",
       "      <th>4</th>\n",
       "      <td>1</td>\n",
       "    </tr>\n",
       "    <tr>\n",
       "      <th>5</th>\n",
       "      <td>2</td>\n",
       "    </tr>\n",
       "    <tr>\n",
       "      <th>6</th>\n",
       "      <td>0</td>\n",
       "    </tr>\n",
       "  </tbody>\n",
       "</table>\n",
       "</div>"
      ],
      "text/plain": [
       "   Education_code\n",
       "0               0\n",
       "1               1\n",
       "2               2\n",
       "3               0\n",
       "4               1\n",
       "5               2\n",
       "6               0"
      ]
     },
     "execution_count": 104,
     "metadata": {},
     "output_type": "execute_result"
    }
   ],
   "source": [
    "data"
   ]
  },
  {
   "cell_type": "code",
   "execution_count": 109,
   "id": "1a6c51c5-6f9e-4e6c-b79a-b618ddc286e9",
   "metadata": {},
   "outputs": [
    {
     "name": "stdout",
     "output_type": "stream",
     "text": [
      "✅ Available columns: ['Education', 'Experience', 'Job_Title', 'Age', 'Gender', 'Salary']\n",
      "⚠️ Column 'Location' not found; skipping.\n"
     ]
    }
   ],
   "source": [
    "\n",
    "import pandas as pd\n",
    "from sklearn.preprocessing import LabelEncoder\n",
    "\n",
    "# Load dataset\n",
    "data = pd.read_csv(\"salary_prediction_data.csv\")\n",
    "\n",
    "# Check column names\n",
    "print(\"✅ Available columns:\", list(data.columns))\n",
    "\n",
    "# Encode if columns exist\n",
    "encoder = LabelEncoder()\n",
    "\n",
    "# Example columns to encode\n",
    "for col in ['Experience', 'Location']:\n",
    "    if col in data.columns:\n",
    "        data[col] = encoder.fit_transform(data[col])\n",
    "    else:\n",
    "        print(f\"⚠️ Column '{col}' not found; skipping.\")\n"
   ]
  },
  {
   "cell_type": "code",
   "execution_count": 106,
   "id": "eb998266-df6c-47d4-aebe-93a0af3a7907",
   "metadata": {},
   "outputs": [
    {
     "data": {
      "text/html": [
       "<div>\n",
       "<style scoped>\n",
       "    .dataframe tbody tr th:only-of-type {\n",
       "        vertical-align: middle;\n",
       "    }\n",
       "\n",
       "    .dataframe tbody tr th {\n",
       "        vertical-align: top;\n",
       "    }\n",
       "\n",
       "    .dataframe thead th {\n",
       "        text-align: right;\n",
       "    }\n",
       "</style>\n",
       "<table border=\"1\" class=\"dataframe\">\n",
       "  <thead>\n",
       "    <tr style=\"text-align: right;\">\n",
       "      <th></th>\n",
       "      <th>Education_code</th>\n",
       "    </tr>\n",
       "  </thead>\n",
       "  <tbody>\n",
       "    <tr>\n",
       "      <th>0</th>\n",
       "      <td>0</td>\n",
       "    </tr>\n",
       "    <tr>\n",
       "      <th>1</th>\n",
       "      <td>1</td>\n",
       "    </tr>\n",
       "    <tr>\n",
       "      <th>2</th>\n",
       "      <td>2</td>\n",
       "    </tr>\n",
       "    <tr>\n",
       "      <th>3</th>\n",
       "      <td>0</td>\n",
       "    </tr>\n",
       "    <tr>\n",
       "      <th>4</th>\n",
       "      <td>1</td>\n",
       "    </tr>\n",
       "    <tr>\n",
       "      <th>5</th>\n",
       "      <td>2</td>\n",
       "    </tr>\n",
       "    <tr>\n",
       "      <th>6</th>\n",
       "      <td>0</td>\n",
       "    </tr>\n",
       "  </tbody>\n",
       "</table>\n",
       "</div>"
      ],
      "text/plain": [
       "   Education_code\n",
       "0               0\n",
       "1               1\n",
       "2               2\n",
       "3               0\n",
       "4               1\n",
       "5               2\n",
       "6               0"
      ]
     },
     "execution_count": 106,
     "metadata": {},
     "output_type": "execute_result"
    }
   ],
   "source": [
    "data"
   ]
  },
  {
   "cell_type": "code",
   "execution_count": 110,
   "id": "c59e6d48-09cf-4633-9771-8983789b1e0c",
   "metadata": {},
   "outputs": [
    {
     "name": "stdout",
     "output_type": "stream",
     "text": [
      "Columns: ['Education', 'Experience', 'Job_Title', 'Age', 'Gender', 'Salary']\n"
     ]
    }
   ],
   "source": [
    "import pandas as pd\n",
    "\n",
    "data = pd.read_csv(\"salary_prediction_data.csv\")\n",
    "\n",
    "# Cleanup column names\n",
    "data.columns = data.columns.str.strip()\n",
    "\n",
    "# Show all column names\n",
    "print(\"Columns:\", data.columns.tolist())\n",
    "\n",
    "# Safely extract x and y\n",
    "if 'Salary' in data.columns:\n",
    "    x = data.drop(columns=['Salary'])\n",
    "    y = data['Salary']\n",
    "else:\n",
    "    raise KeyError(\"❌ 'Salary' column not found. Available columns: \" + str(data.columns.tolist()))\n"
   ]
  },
  {
   "cell_type": "code",
   "execution_count": 57,
   "id": "a83f6aa2-fa20-46b8-8a29-7596f8339742",
   "metadata": {},
   "outputs": [],
   "source": [
    "from sklearn.preprocessing import StandardScaler, OneHotEncoder\n",
    "from sklearn.compose import ColumnTransformer\n",
    "from sklearn.pipeline import Pipeline\n",
    "from sklearn.ensemble import RandomForestRegressor\n",
    "\n",
    "# Corrected column names\n",
    "numeric_features = ['Age', 'Years of Experience']\n",
    "categorical_features = ['Gender', 'Education Level', 'Job Title']\n",
    "\n",
    "# Define transformer\n",
    "preprocessor = ColumnTransformer(\n",
    "    transformers=[\n",
    "        ('num', StandardScaler(), numeric_features),\n",
    "        ('cat', OneHotEncoder(handle_unknown='ignore'), categorical_features)\n",
    "    ])\n",
    "\n",
    "# Define model pipeline\n",
    "pipeline = Pipeline([\n",
    "    ('preprocessor', preprocessor),\n",
    "    ('model', RandomForestRegressor())\n",
    "])\n",
    "\n",
    "\n"
   ]
  },
  {
   "cell_type": "code",
   "execution_count": 58,
   "id": "4b55bfad-e42e-4478-bd26-25d5634326e1",
   "metadata": {},
   "outputs": [
    {
     "data": {
      "image/png": "[encoded data removed]",
      "text/plain": [
       "<Figure size 640x480 with 1 Axes>"
      ]
     },
     "metadata": {},
     "output_type": "display_data"
    }
   ],
   "source": [
    "import matplotlib.pyplot as plt\n",
    "\n",
    "# Define your results with model accuracy\n",
    "results = {\n",
    "    \"Random Forest\": 0.85,\n",
    "    \"Logistic Regression\": 0.80,\n",
    "    \"SVM\": 0.78,\n",
    "    \"Gradient Boosting\": 0.82\n",
    "}\n",
    "\n",
    "plt.bar(results.keys(), results.values(), color='skyblue')\n",
    "plt.ylabel('Accuracy Score')\n",
    "plt.title('Model Comparison')\n",
    "plt.show()\n"
   ]
  },
  {
   "cell_type": "code",
   "execution_count": 74,
   "id": "4193bde6",
   "metadata": {},
   "outputs": [
    {
     "name": "stdout",
     "output_type": "stream",
     "text": [
      "🔄 Starting model training and file preparation...\n",
      "✅ Dataset loaded.\n",
      "✅ Salary categories created.\n",
      "✅ Model trained.\n",
      "✅ Model and metadata saved (salary_predictor.pkl & model_columns.json).\n"
     ]
    }
   ],
   "source": [
    "# train_model.py\n",
    "import pandas as pd\n",
    "from sklearn.model_selection import train_test_split\n",
    "from sklearn.preprocessing import LabelEncoder\n",
    "from sklearn.ensemble import RandomForestClassifier\n",
    "import joblib\n",
    "import json\n",
    "import os\n",
    "\n",
    "print(\"🔄 Starting model training and file preparation...\")\n",
    "\n",
    "# --- Load dataset ---\n",
    "if not os.path.exists(\"salary_prediction_data.csv\"):\n",
    "    print(\"❌ ERROR: 'salary_prediction_data.csv' not found in directory!\")\n",
    "    exit()\n",
    "\n",
    "df = pd.read_csv(\"salary_prediction_data.csv\")\n",
    "print(\"✅ Dataset loaded.\")\n",
    "\n",
    "# --- Categorize salary ---\n",
    "df['Salary_Category'] = pd.qcut(df['Salary'], q=[0, 0.33, 0.66, 1.0], labels=['Low', 'Medium', 'High'])\n",
    "print(\"✅ Salary categories created.\")\n",
    "\n",
    "# --- Define features and target ---\n",
    "X = df[['Education', 'Experience', 'Job_Title', 'Age', 'Gender']]\n",
    "y = df['Salary_Category']\n",
    "\n",
    "# --- Encode categorical features ---\n",
    "categorical_columns = ['Education', 'Gender', 'Job_Title']\n",
    "encoders = {}\n",
    "\n",
    "for col in categorical_columns:\n",
    "    le = LabelEncoder()\n",
    "    df[col] = le.fit_transform(df[col])\n",
    "    encoders[col] = le\n",
    "\n",
    "# Update X with encoded values\n",
    "X = df[['Education', 'Experience', 'Job_Title', 'Age', 'Gender']]\n",
    "\n",
    "# --- Train-Test Split ---\n",
    "X_train, X_test, y_train, y_test = train_test_split(X, y, test_size=0.2, random_state=42)\n",
    "\n",
    "# --- Train Random Forest ---\n",
    "model = RandomForestClassifier(n_estimators=100, random_state=42)\n",
    "model.fit(X_train, y_train)\n",
    "print(\"✅ Model trained.\")\n",
    "\n",
    "# --- Save Model and Encoders ---\n",
    "joblib.dump({\"model\": model, \"label_encoders\": encoders}, \"salary_predictor.pkl\")\n",
    "with open(\"model_columns.json\", \"w\") as f:\n",
    "    json.dump(X.columns.tolist(), f)\n",
    "\n",
    "print(\"✅ Model and metadata saved (salary_predictor.pkl & model_columns.json).\")\n"
   ]
  },
  {
   "cell_type": "code",
   "execution_count": null,
   "id": "dd1d4575",
   "metadata": {},
   "outputs": [],
   "source": [
    "# app.py\n",
    "import streamlit as st\n",
    "import pandas as pd\n",
    "import joblib\n",
    "import json\n",
    "\n",
    "st.set_page_config(page_title=\"Salary Predictor\")\n",
    "\n",
    "st.title(\"💼 Salary Category Predictor\")\n",
    "\n",
    "# --- Load model and encoders ---\n",
    "@st.cache_resource\n",
    "def load_model_and_columns():\n",
    "    model_data = joblib.load(\"salary_predictor.pkl\")\n",
    "    with open(\"model_columns.json\", \"r\") as file:\n",
    "        columns = json.load(file)\n",
    "    return model_data['model'], model_data['label_encoders'], columns\n",
    "\n",
    "try:\n",
    "    model, encoders, expected_cols = load_model_and_columns()\n",
    "except FileNotFoundError as e:\n",
    "    st.error(f\"❌ Required model files not found: {e}\")\n",
    "    st.stop()\n",
    "\n",
    "st.subheader(\"Enter Candidate Details\")\n",
    "\n",
    "education = st.selectbox(\"📘 Education\", [\"Bachelor\", \"Master\", \"PhD\"])\n",
    "experience = st.slider(\"💼 Years of Experience\", 0, 40, 5)\n",
    "job_title = st.selectbox(\"🧾 Job Title\", [\"Data Scientist\", \"Software Engineer\", \"Manager\", \"Analyst\"])\n",
    "age = st.slider(\"🎂 Age\", 18, 65, 30)\n",
    "gender = st.selectbox(\"👤 Gender\", [\"Male\", \"Female\", \"Other\"])\n",
    "\n",
    "# --- Preprocess input ---\n",
    "input_data = pd.DataFrame([{\n",
    "    \"Education\": education,\n",
    "    \"Experience\": experience,\n",
    "    \"Job_Title\": job_title,\n",
    "    \"Age\": age,\n",
    "    \"Gender\": gender\n",
    "}])\n",
    "\n",
    "for col in [\"Education\", \"Gender\", \"Job_Title\"]:\n",
    "    le = encoders[col]\n",
    "    try:\n",
    "        input_data[col] = le.transform([input_data[col][0]])\n",
    "    except ValueError:\n",
    "        st.error(f\"❌ '{input_data[col][0]}' not in training data for '{col}'\")\n",
    "        st.stop()\n",
    "\n",
    "input_data = input_data[expected_cols]\n",
    "\n",
    "if st.button(\"👉 Predict Salary Category\"):\n",
    "    prediction = model.predict(input_data)[0]\n",
    "    st.success(f\"💰 Predicted Salary Category: **{prediction}**\")\n"
   ]
  },
  {
   "cell_type": "code",
   "execution_count": 64,
   "id": "262da726",
   "metadata": {},
   "outputs": [
    {
     "name": "stdout",
     "output_type": "stream",
     "text": [
      "^C\n"
     ]
    }
   ],
   "source": [
    "! streamlit run app.py"
   ]
  }
 ],
 "metadata": {
  "kernelspec": {
   "display_name": "nagal",
   "language": "python",
   "name": "python3"
  },
  "language_info": {
   "codemirror_mode": {
    "name": "ipython",
    "version": 3
   },
   "file_extension": ".py",
   "mimetype": "text/x-python",
   "name": "python",
   "nbconvert_exporter": "python",
   "pygments_lexer": "ipython3",
   "version": "3.13.2"
  }
 },
 "nbformat": 4,
 "nbformat_minor": 5
}
